{
 "cells": [
  {
   "cell_type": "code",
   "execution_count": 3,
   "id": "dce67a15",
   "metadata": {},
   "outputs": [],
   "source": [
    "import pandas as pd\n",
    "import numpy as np\n",
    "import matplotlib.pyplot as plt\n",
    "import seaborn as sns   "
   ]
  },
  {
   "cell_type": "code",
   "execution_count": 4,
   "id": "1373c956",
   "metadata": {},
   "outputs": [],
   "source": [
    "seat_dt=pd.read_excel('Agency1.xlsx')"
   ]
  },
  {
   "cell_type": "code",
   "execution_count": 5,
   "id": "b5347728",
   "metadata": {},
   "outputs": [],
   "source": [
    "#convert race to numeric\n",
    "race_map={'Asian':0, 'Black or African American':1, 'White':2,\n",
    "       'American Indian/Alaska Native':3, 'Not Specified':4,\n",
    "       'Hispanic or Latino':5, 'Nat Hawaiian/Oth Pac Islander':6,\n",
    "       'Two or More Races':7,'Not Specified':8}\n",
    "\n",
    "\n",
    "seat_dt['Race']=seat_dt['Subject_Race'].map(race_map)"
   ]
  },
  {
   "cell_type": "code",
   "execution_count": 6,
   "id": "2b6655ca",
   "metadata": {},
   "outputs": [],
   "source": [
    "#convert gender to numeric\n",
    "gender_map={'Female':0, 'Male':1, 'Unknown':2, 'Other':3, 'Transgender Male':4,\n",
    "       'Transgender Female':5, 'Non-binary':6,'-':2}\n",
    "\n",
    "seat_dt['Gender']=seat_dt['Subject_Gender'].map(gender_map)"
   ]
  },
  {
   "cell_type": "code",
   "execution_count": 7,
   "id": "0bf9163b",
   "metadata": {},
   "outputs": [],
   "source": [
    "#convert precinct to numeric\n",
    "precinct_map={'West':0, 'East':1, 'South':2, 'North':3, 'X':4,\n",
    "       'Southwest':5, '-':6,'0':7, 'OOJ':8}\n",
    "\n",
    "seat_dt['Precinct']=seat_dt['Precinct'].map(precinct_map)"
   ]
  },
  {
   "cell_type": "code",
   "execution_count": 8,
   "id": "1c32f83f",
   "metadata": {},
   "outputs": [],
   "source": [
    "#msp_dt=msp_dt.rename(columns={\"Race\":\"Race2\"})\n",
    "\n",
    "all_data=seat_dt[['Incident_Num','Incident_Type','Occured_date_time','Precinct','Race','Gender']].copy()\n",
    "all_data=all_data.rename(columns={\"Incident_Num\":\"Incident_No\",\"Incident_Type\":\"Force_Type\",\"Occured_date_time\":\"Incident_Date\"})"
   ]
  },
  {
   "cell_type": "code",
   "execution_count": 9,
   "id": "3a303721",
   "metadata": {},
   "outputs": [],
   "source": [
    "#msp_dt=msp_dt.rename(columns={\"CaseNumber\":\"Incident_No\",\"Race1\":\"Race\",\"ResponseDate\":\"Incident_Date\",\"Sex1\":\"Gender\"})"
   ]
  },
  {
   "cell_type": "code",
   "execution_count": 10,
   "id": "921f2694",
   "metadata": {},
   "outputs": [],
   "source": [
    "#new_data=msp_dt[['Incident_No','Force_Type','Incident_Date','Race','Gender']].copy()"
   ]
  },
  {
   "cell_type": "code",
   "execution_count": 11,
   "id": "bf4aa602",
   "metadata": {},
   "outputs": [],
   "source": [
    "#test_data=pd.concat([all_data, new_data])"
   ]
  },
  {
   "cell_type": "code",
   "execution_count": 12,
   "id": "218c39a0",
   "metadata": {},
   "outputs": [],
   "source": [
    "#print(len(seat_dt))\n",
    "#print(len(new_data))\n",
    "#print(len(all_data))\n",
    "#print(len(test_data))"
   ]
  },
  {
   "cell_type": "code",
   "execution_count": 13,
   "id": "8ad6eeb9",
   "metadata": {},
   "outputs": [],
   "source": [
    "#test_data['Gender'].unique()"
   ]
  },
  {
   "cell_type": "code",
   "execution_count": null,
   "id": "0519851e",
   "metadata": {},
   "outputs": [],
   "source": []
  },
  {
   "cell_type": "code",
   "execution_count": 14,
   "id": "e2497541",
   "metadata": {},
   "outputs": [],
   "source": [
    "all_data.to_csv('Agency1_TestData.csv',index=False)"
   ]
  }
 ],
 "metadata": {
  "kernelspec": {
   "display_name": "Python 3 (ipykernel)",
   "language": "python",
   "name": "python3"
  },
  "language_info": {
   "codemirror_mode": {
    "name": "ipython",
    "version": 3
   },
   "file_extension": ".py",
   "mimetype": "text/x-python",
   "name": "python",
   "nbconvert_exporter": "python",
   "pygments_lexer": "ipython3",
   "version": "3.9.13"
  }
 },
 "nbformat": 4,
 "nbformat_minor": 5
}
