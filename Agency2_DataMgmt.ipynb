{
 "cells": [
  {
   "cell_type": "code",
   "execution_count": 1,
   "id": "dce67a15",
   "metadata": {},
   "outputs": [],
   "source": [
    "import pandas as pd\n",
    "import numpy as np\n",
    "import matplotlib.pyplot as plt\n",
    "import seaborn as sns   "
   ]
  },
  {
   "cell_type": "code",
   "execution_count": 2,
   "id": "1373c956",
   "metadata": {},
   "outputs": [],
   "source": [
    "msp_dt=pd.read_excel('Agency2.xlsx') "
   ]
  },
  {
   "cell_type": "code",
   "execution_count": 3,
   "id": "42624928",
   "metadata": {},
   "outputs": [],
   "source": [
    "#add new mapped value for forcetype in minneapolis data set\n",
    "force_map={\"Baton\":\"Level 2 - Use of Force\",\n",
    "           \"Bodily Force\":\"Level 1 - Use of Force\",\n",
    "           \"Chemical Irritant\":\"Level 1 - Use of Force\",\n",
    "           \"Firearm\":\"Level 3 - Use of Force\",\n",
    "           \"Gun Point Display\":\"Level 3 - Use of Force\",\n",
    "           \"Improvised Weapon\":\"Level 3 - Use of Force\",\n",
    "           \"Less Lethal\":\"Level 1 - Use of Force\",\n",
    "           \"Less Lethal Projectile\":\"Level 1 - Use of Force\",\n",
    "           \"Maximal Restraint Technique\":\"Level 2 - Use of Force\",\n",
    "           \"Police K9 Bite\":\"Level 2 - Use of Force\",\n",
    "           \"Taser\":\"Level 2 - Use of Force\"\n",
    "          }\n",
    "msp_dt['Force_Type']=msp_dt['ForceType'].map(force_map)"
   ]
  },
  {
   "cell_type": "code",
   "execution_count": 4,
   "id": "b5347728",
   "metadata": {},
   "outputs": [],
   "source": [
    "#convert race to numeric\n",
    "race_map={'Asian':0, 'Black':1, 'White':2,\n",
    "       'Native American':3, 'not recorded':4,\n",
    "       'Hispanic or Latino':5, 'Pacific Islander':6,\n",
    "       'Other / Mixed Race':7}\n",
    "\n",
    "msp_dt['Race']=msp_dt['Race'].map(race_map)"
   ]
  },
  {
   "cell_type": "code",
   "execution_count": 5,
   "id": "2b6655ca",
   "metadata": {},
   "outputs": [],
   "source": [
    "#add new mapped value for sex in minneapolis data set\n",
    "sex_map={\"Male\":1,\n",
    "           \"Female\":0,\n",
    "           \"Unknown\":2,\n",
    "           \"not recorded\":3\n",
    "          }\n",
    "\n",
    "msp_dt['Gender']=msp_dt['Sex'].map(sex_map)"
   ]
  },
  {
   "cell_type": "code",
   "execution_count": 6,
   "id": "9bf28b60",
   "metadata": {},
   "outputs": [],
   "source": [
    "#add new mapped value for sex in minneapolis data set\n",
    "call_map={\"Yes\":1,\n",
    "           \"No\":0\n",
    "          }\n",
    "\n",
    "msp_dt['Is911Call']=msp_dt['Is911Call'].map(call_map)"
   ]
  },
  {
   "cell_type": "code",
   "execution_count": 7,
   "id": "3a303721",
   "metadata": {},
   "outputs": [],
   "source": [
    "msp_dt=msp_dt.rename(columns={\"CaseNumber\":\"Incident_No\",'EventAge':'Age',\"ResponseDate\":\"Incident_Date\"})"
   ]
  },
  {
   "cell_type": "code",
   "execution_count": 8,
   "id": "921f2694",
   "metadata": {},
   "outputs": [],
   "source": [
    "new_data=msp_dt[['Incident_No','Force_Type','Incident_Date','Race','Gender','Age','Precinct','Neighborhood','Is911Call']].copy()"
   ]
  },
  {
   "cell_type": "code",
   "execution_count": 9,
   "id": "e2497541",
   "metadata": {},
   "outputs": [],
   "source": [
    "new_data.to_csv('Agency2_TestData.csv',index=False)"
   ]
  }
 ],
 "metadata": {
  "kernelspec": {
   "display_name": "Python 3 (ipykernel)",
   "language": "python",
   "name": "python3"
  },
  "language_info": {
   "codemirror_mode": {
    "name": "ipython",
    "version": 3
   },
   "file_extension": ".py",
   "mimetype": "text/x-python",
   "name": "python",
   "nbconvert_exporter": "python",
   "pygments_lexer": "ipython3",
   "version": "3.9.13"
  }
 },
 "nbformat": 4,
 "nbformat_minor": 5
}
